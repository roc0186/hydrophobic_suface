import matplotlib.pyplot as plt
import numpy as np
import math
def bwr_mapping(value, vmin, vmax):
    # 使用matplotlib的bwr颜色映射
    norm = plt.Normalize(vmin, vmax)
    cmap = plt.get_cmap('bwr')
    
    # return "{:.2f}".format(np.around(cmap(norm(value)),2))
    # return np.around(cmap(norm(value)),2)
    return ','.join(["{:.3f}".format(i) for i in list(cmap(norm(value)))[0:3]])

# print(bwr_mapping(1,-1,1))

#hydrophobic scale of each AA,Reference: J. Mol. Biol. 179:125-142 (1984)
# AA_scale_map={'Ala':0.620,'Arg':-2.530,'Asn':-0.780,'Asp':-0.900,'Cys':0.290,'Gln':-0.850,'Glu':-0.740,'Gly':0.480,'His':-0.400,'Ile':1.380,'Leu':1.060,'Lys':-1.500,'Met':0.640,'Phe':1.190,'Pro':0.120,'Ser':-0.180,'Thr':-0.050,'Trp':0.810,'Tyr':0.260,'Val':1.080}
# max_value=max(AA_scale_map.values())
# min_value=min(AA_scale_map.values())
# # print(max_value)
# # print(min_value)
# for i in range(len(AA_scale_map)):
#     k=str(list(AA_scale_map.keys())[i])
#     v=list(AA_scale_map.values())[i]
#     # print("cmd.set_color('color_"+k+"3',["+bwr_mapping(v,min_value,max_value)+'])')
#     # print("cmd.color(\"color_"+k+"3\",\"(\"+s+\" and resn "+k+")\")")


#hydrophobic scale of each AA, [Kyte and Doolittle, 1982].
AA_scalemap_kyte={'PHE':2.8,'SER':-0.8,'MET':1.9,'PRO':-1.6,'ILE':4.5,'TYR':-1.3,'LEU':3.8,'HIS':-3.2,'VAL':4.2,'GLN':-3.5,'CYS':2.5,'ASN':-3.5,'TRP':-0.9,'GLU':-3.5,'ALA':1.8,'LYS':-3.9,'THR':-0.7,'ASP':-3.5,'GLY':-0.4,'ARG':-4.5}
max_V_kyte=max(AA_scalemap_kyte.values())
min_V_kyte=min(AA_scalemap_kyte.values())
# print(max_V_kyte)
# print(min_V_kyte)
for i in range(len(AA_scalemap_kyte)):
    k=str(list(AA_scalemap_kyte.keys())[i])
    v=list(AA_scalemap_kyte.values())[i]
    print("cmd.set_color('color_"+k+"4',["+bwr_mapping(v,min_V_kyte,max_V_kyte)+'])')
    print("cmd.color(\"color_"+k+"4\",\"(\"+s+\" and resn "+k+")\")")
