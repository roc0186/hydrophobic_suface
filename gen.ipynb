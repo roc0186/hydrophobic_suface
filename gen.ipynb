{
 "cells": [
  {
   "cell_type": "code",
   "execution_count": null,
   "id": "6af4896d",
   "metadata": {},
   "outputs": [
    {
     "name": "stdout",
     "output_type": "stream",
     "text": [
      "cmd.set_color('color_PHE4',[1.000,0.376,0.376])\n",
      "cmd.color(\"color_PHE4\",\"(\"+s+\" and resn PHE)\")\n",
      "cmd.set_color('color_SER4',[0.824,0.824,1.000])\n",
      "cmd.color(\"color_SER4\",\"(\"+s+\" and resn SER)\")\n",
      "cmd.set_color('color_MET4',[1.000,0.573,0.573])\n",
      "cmd.color(\"color_MET4\",\"(\"+s+\" and resn MET)\")\n",
      "cmd.set_color('color_PRO4',[0.643,0.643,1.000])\n",
      "cmd.color(\"color_PRO4\",\"(\"+s+\" and resn PRO)\")\n",
      "cmd.set_color('color_ILE4',[1.000,0.000,0.000])\n",
      "cmd.color(\"color_ILE4\",\"(\"+s+\" and resn ILE)\")\n",
      "cmd.set_color('color_TYR4',[0.714,0.714,1.000])\n",
      "cmd.color(\"color_TYR4\",\"(\"+s+\" and resn TYR)\")\n",
      "cmd.set_color('color_LEU4',[1.000,0.149,0.149])\n",
      "cmd.color(\"color_LEU4\",\"(\"+s+\" and resn LEU)\")\n",
      "cmd.set_color('color_HIS4',[0.282,0.282,1.000])\n",
      "cmd.color(\"color_HIS4\",\"(\"+s+\" and resn HIS)\")\n",
      "cmd.set_color('color_VAL4',[1.000,0.063,0.063])\n",
      "cmd.color(\"color_VAL4\",\"(\"+s+\" and resn VAL)\")\n",
      "cmd.set_color('color_GLN4',[0.220,0.220,1.000])\n",
      "cmd.color(\"color_GLN4\",\"(\"+s+\" and resn GLN)\")\n",
      "cmd.set_color('color_CYS4',[1.000,0.439,0.439])\n",
      "cmd.color(\"color_CYS4\",\"(\"+s+\" and resn CYS)\")\n",
      "cmd.set_color('color_ASN4',[0.220,0.220,1.000])\n",
      "cmd.color(\"color_ASN4\",\"(\"+s+\" and resn ASN)\")\n",
      "cmd.set_color('color_TRP4',[0.800,0.800,1.000])\n",
      "cmd.color(\"color_TRP4\",\"(\"+s+\" and resn TRP)\")\n",
      "cmd.set_color('color_GLU4',[0.220,0.220,1.000])\n",
      "cmd.color(\"color_GLU4\",\"(\"+s+\" and resn GLU)\")\n",
      "cmd.set_color('color_ALA4',[1.000,0.596,0.596])\n",
      "cmd.color(\"color_ALA4\",\"(\"+s+\" and resn ALA)\")\n",
      "cmd.set_color('color_LYS4',[0.133,0.133,1.000])\n",
      "cmd.color(\"color_LYS4\",\"(\"+s+\" and resn LYS)\")\n",
      "cmd.set_color('color_THR4',[0.847,0.847,1.000])\n",
      "cmd.color(\"color_THR4\",\"(\"+s+\" and resn THR)\")\n",
      "cmd.set_color('color_ASP4',[0.220,0.220,1.000])\n",
      "cmd.color(\"color_ASP4\",\"(\"+s+\" and resn ASP)\")\n",
      "cmd.set_color('color_GLY4',[0.910,0.910,1.000])\n",
      "cmd.color(\"color_GLY4\",\"(\"+s+\" and resn GLY)\")\n",
      "cmd.set_color('color_ARG4',[0.000,0.000,1.000])\n",
      "cmd.color(\"color_ARG4\",\"(\"+s+\" and resn ARG)\")\n"
     ]
    }
   ],
   "source": [
    "import matplotlib.pyplot as plt\n",
    "import numpy as np\n",
    "import math\n",
    "def bwr_mapping(value, vmin, vmax):\n",
    "    # 使用matplotlib的bwr颜色映射\n",
    "    norm = plt.Normalize(vmin, vmax)\n",
    "    cmap = plt.get_cmap('bwr')\n",
    "    \n",
    "    # return \"{:.2f}\".format(np.around(cmap(norm(value)),2))\n",
    "    # return np.around(cmap(norm(value)),2)\n",
    "    return ','.join([\"{:.3f}\".format(i) for i in list(cmap(norm(value)))[0:3]])\n",
    "\n",
    "# print(bwr_mapping(1,-1,1))\n",
    "\n",
    "#hydrophobic scale of each AA,Reference: J. Mol. Biol. 179:125-142 (1984)\n",
    "# AA_scale_map={'Ala':0.620,'Arg':-2.530,'Asn':-0.780,'Asp':-0.900,'Cys':0.290,'Gln':-0.850,'Glu':-0.740,'Gly':0.480,'His':-0.400,'Ile':1.380,'Leu':1.060,'Lys':-1.500,'Met':0.640,'Phe':1.190,'Pro':0.120,'Ser':-0.180,'Thr':-0.050,'Trp':0.810,'Tyr':0.260,'Val':1.080}\n",
    "# max_value=max(AA_scale_map.values())\n",
    "# min_value=min(AA_scale_map.values())\n",
    "# # print(max_value)\n",
    "# # print(min_value)\n",
    "# for i in range(len(AA_scale_map)):\n",
    "#     k=str(list(AA_scale_map.keys())[i])\n",
    "#     v=list(AA_scale_map.values())[i]\n",
    "#     # print(\"cmd.set_color('color_\"+k+\"3',[\"+bwr_mapping(v,min_value,max_value)+'])')\n",
    "#     # print(\"cmd.color(\\\"color_\"+k+\"3\\\",\\\"(\\\"+s+\\\" and resn \"+k+\")\\\")\")\n",
    "\n",
    "\n",
    "#hydrophobic scale of each AA, [Kyte and Doolittle, 1982].\n",
    "AA_scalemap_kyte={'PHE':2.8,'SER':-0.8,'MET':1.9,'PRO':-1.6,'ILE':4.5,'TYR':-1.3,'LEU':3.8,'HIS':-3.2,'VAL':4.2,'GLN':-3.5,'CYS':2.5,'ASN':-3.5,'TRP':-0.9,'GLU':-3.5,'ALA':1.8,'LYS':-3.9,'THR':-0.7,'ASP':-3.5,'GLY':-0.4,'ARG':-4.5}\n",
    "max_V_kyte=max(AA_scalemap_kyte.values())\n",
    "min_V_kyte=min(AA_scalemap_kyte.values())\n",
    "# print(max_V_kyte)\n",
    "# print(min_V_kyte)\n",
    "for i in range(len(AA_scalemap_kyte)):\n",
    "    k=str(list(AA_scalemap_kyte.keys())[i])\n",
    "    v=list(AA_scalemap_kyte.values())[i]\n",
    "    print(\"cmd.set_color('color_\"+k+\"4',[\"+bwr_mapping(v,min_V_kyte,max_V_kyte)+'])')\n",
    "    print(\"cmd.color(\\\"color_\"+k+\"4\\\",\\\"(\\\"+s+\\\" and resn \"+k+\")\\\")\")"
   ]
  },
  {
   "cell_type": "code",
   "execution_count": null,
   "id": "48f9b732",
   "metadata": {},
   "outputs": [
    {
     "name": "stdout",
     "output_type": "stream",
     "text": [
      "1.38\n",
      "-2.53\n",
      "cmd.set_color('color_Ala3',[1.000,0.384,0.384])\n",
      "cmd.set_color('color_Arg3',[0.000,0.000,1.000])\n",
      "cmd.set_color('color_Asn3',[0.894,0.894,1.000])\n",
      "cmd.set_color('color_Asp3',[0.831,0.831,1.000])\n",
      "cmd.set_color('color_Cys3',[1.000,0.557,0.557])\n",
      "cmd.set_color('color_Gln3',[0.855,0.855,1.000])\n",
      "cmd.set_color('color_Glu3',[0.918,0.918,1.000])\n",
      "cmd.set_color('color_Gly3',[1.000,0.455,0.455])\n",
      "cmd.set_color('color_His3',[1.000,0.910,0.910])\n",
      "cmd.set_color('color_Ile3',[1.000,0.000,0.000])\n",
      "cmd.set_color('color_Leu3',[1.000,0.157,0.157])\n",
      "cmd.set_color('color_Lys3',[0.525,0.525,1.000])\n",
      "cmd.set_color('color_Met3',[1.000,0.376,0.376])\n",
      "cmd.set_color('color_Phe3',[1.000,0.094,0.094])\n",
      "cmd.set_color('color_Pro3',[1.000,0.643,0.643])\n",
      "cmd.set_color('color_Ser3',[1.000,0.800,0.800])\n",
      "cmd.set_color('color_Thr3',[1.000,0.729,0.729])\n",
      "cmd.set_color('color_Trp3',[1.000,0.290,0.290])\n",
      "cmd.set_color('color_Tyr3',[1.000,0.573,0.573])\n",
      "cmd.set_color('color_Val3',[1.000,0.149,0.149])\n"
     ]
    }
   ],
   "source": []
  },
  {
   "cell_type": "code",
   "execution_count": null,
   "id": "6d7db27a",
   "metadata": {},
   "outputs": [],
   "source": []
  }
 ],
 "metadata": {
  "kernelspec": {
   "display_name": "base",
   "language": "python",
   "name": "python3"
  },
  "language_info": {
   "codemirror_mode": {
    "name": "ipython",
    "version": 3
   },
   "file_extension": ".py",
   "mimetype": "text/x-python",
   "name": "python",
   "nbconvert_exporter": "python",
   "pygments_lexer": "ipython3",
   "version": "3.13.5"
  }
 },
 "nbformat": 4,
 "nbformat_minor": 5
}
